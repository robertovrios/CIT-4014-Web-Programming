{
  "nbformat": 4,
  "nbformat_minor": 0,
  "metadata": {
    "colab": {
      "provenance": [],
      "authorship_tag": "ABX9TyO4PGo9Wky9pa6qWMZd/1jk",
      "include_colab_link": true
    },
    "kernelspec": {
      "name": "python3",
      "display_name": "Python 3"
    },
    "language_info": {
      "name": "python"
    }
  },
  "cells": [
    {
      "cell_type": "markdown",
      "metadata": {
        "id": "view-in-github",
        "colab_type": "text"
      },
      "source": [
        "<a href=\"https://colab.research.google.com/github/robertovrios/CIT-4014-Web-Programming/blob/main/rentApplication.ipynb\" target=\"_parent\"><img src=\"https://colab.research.google.com/assets/colab-badge.svg\" alt=\"Open In Colab\"/></a>"
      ]
    },
    {
      "cell_type": "code",
      "execution_count": null,
      "metadata": {
        "colab": {
          "base_uri": "https://localhost:8080/"
        },
        "id": "-9eoRbRXqiIf",
        "outputId": "fda6e26f-4426-4e15-bae0-fd778a75d715"
      },
      "outputs": [
        {
          "output_type": "stream",
          "name": "stdout",
          "text": [
            "Applicant:John Doe\n",
            "Type: 1\n",
            "Age:         25\n",
            "Income: 40000\n",
            "Credit Score: 700          \n",
            "Number of Evictions: 0 \n",
            "Number of Occupants: 2         \n",
            "Desired Rent: 1200\n",
            "Location: Downtown\n",
            "Status: Approved\n"
          ]
        }
      ],
      "source": [
        "from datetime import datetime\n",
        "\n",
        "\n",
        "\n",
        "class RentalApplication:\n",
        "    def __init__(self, apartment_type, applicant_name, applicant_dob, applicant_income, \\\n",
        "                 applicant_creditscore, number_evictions, number_occupants, desired_rent, desired_location):\n",
        "        self.apartment_type = apartment_type\n",
        "        self.applicant_name = applicant_name\n",
        "        self.applicant_age = datetime.now().year - datetime.strptime(applicant_dob,\"%m-%d-%Y\").year\n",
        "        self.applicant_income = applicant_income\n",
        "        self.applicant_creditscore = applicant_creditscore\n",
        "        self.number_evictions = number_evictions\n",
        "        self.number_occupants = number_occupants\n",
        "        self.desired_rent = desired_rent\n",
        "        self.desired_location = desired_location\n",
        "        self.status = \"Pending\"  # Default status is pending\n",
        "\n",
        "    def check_occupants(self):\n",
        "      allowed_occupants = 0\n",
        "      if (self.apartment_type==1):\n",
        "        allowed_occupants = 3\n",
        "      else:\n",
        "        allowed_occupants = 5\n",
        "      return allowed_occupants\n",
        "\n",
        "    def process_application(self):\n",
        "        allowed_occupants = self.check_occupants()\n",
        "\n",
        "        if self.applicant_age >= 25 and self.applicant_income >= 0.4*self.desired_rent \\\n",
        "        and self.applicant_creditscore >= 680 and self.number_evictions == 0 \\\n",
        "        and self.number_occupants <= allowed_occupants:\n",
        "            self.status = \"Approved\"\n",
        "        else:\n",
        "            self.status = \"Rejected\"\n",
        "\n",
        "    def __str__(self):\n",
        "        return f\"Applicant:{self.applicant_name}\\nType: {self.apartment_type}\\nAge: \\\n",
        "        {self.applicant_age}\\nIncome: {self.applicant_income}\\nCredit Score: {self.applicant_creditscore}  \\\n",
        "        \\nNumber of Evictions: {self.number_evictions} \\nNumber of Occupants: {self.number_occupants} \\\n",
        "        \\nDesired Rent: {self.desired_rent}\\nLocation: {self.desired_location}\\nStatus: {self.status}\"\n",
        "\n",
        "\n",
        "# Example usage:\n",
        "if __name__ == \"__main__\":\n",
        "    application1 = RentalApplication(1,\"John Doe\", \"03-02-1999\", 40000, 700,0,2,1200, \"Downtown\")\n",
        "    application1.process_application()\n",
        "    print(application1)\n",
        "\n"
      ]
    },
    {
      "cell_type": "code",
      "source": [],
      "metadata": {
        "id": "wwH1_anz9Qro"
      },
      "execution_count": null,
      "outputs": []
    }
  ]
}